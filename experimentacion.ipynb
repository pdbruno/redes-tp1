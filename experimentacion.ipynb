{
 "cells": [
  {
   "cell_type": "code",
   "execution_count": 33,
   "metadata": {},
   "outputs": [],
   "source": [
    "import csv\n",
    "import math"
   ]
  },
  {
   "cell_type": "code",
   "execution_count": 34,
   "metadata": {},
   "outputs": [],
   "source": [
    "def prob(e, S):\n",
    "    return S[e]/sum(S.values())\n",
    "\n",
    "def info(e, S):\n",
    "    return -math.log2(prob(e, S))\n",
    "\n",
    "def entropia(S):\n",
    "    return sum([info(e, S) * prob(e, S) for e in S])"
   ]
  },
  {
   "cell_type": "code",
   "execution_count": 35,
   "metadata": {},
   "outputs": [],
   "source": [
    "S1 = {}\n",
    "direcciones = {'BROADCAST': 0, 'UNICAST': 0}\n",
    "protocolos = {}\n",
    "total = 20000\n",
    "\n",
    "with open('output.csv', newline='') as csvfile:\n",
    "    reader = csv.reader(csvfile, )\n",
    "    next(reader, None)  # skip the headers\n",
    "    for [dire, proto, count] in reader:\n",
    "        S1[(dire, int(proto))] = int(count)\n",
    "        direcciones[dire] += int(count)\n",
    "        if proto not in protocolos:\n",
    "            protocolos[proto] = 0\n",
    "        protocolos[proto] += int(count)\n"
   ]
  },
  {
   "cell_type": "markdown",
   "metadata": {},
   "source": [
    "• Porcentaje de tráfico Broadcast/Unicast sobre el tráfico total.\n"
   ]
  },
  {
   "cell_type": "code",
   "execution_count": 36,
   "metadata": {},
   "outputs": [
    {
     "name": "stdout",
     "output_type": "stream",
     "text": [
      "porcentaje broadcast: 0.0%\n",
      "porcentaje unicast: 100.0%\n"
     ]
    }
   ],
   "source": [
    "ratio_broadcast = direcciones['BROADCAST'] / total\n",
    "print(f'porcentaje broadcast: {ratio_broadcast*100}%')\n",
    "print(f'porcentaje unicast: {100 - ratio_broadcast*100}%')"
   ]
  },
  {
   "cell_type": "markdown",
   "metadata": {},
   "source": [
    "• Porcentaje de aparición de cada protocolo encontrado.\n"
   ]
  },
  {
   "cell_type": "code",
   "execution_count": 37,
   "metadata": {},
   "outputs": [
    {
     "name": "stdout",
     "output_type": "stream",
     "text": [
      "porcentaje protocolo 2048: 99.72%\n",
      "porcentaje protocolo 2054: 0.27999999999999997%\n"
     ]
    }
   ],
   "source": [
    "for (proto, count) in protocolos.items():\n",
    "  print(f'porcentaje protocolo {proto}: {(count / total)*100}%')"
   ]
  },
  {
   "cell_type": "markdown",
   "metadata": {},
   "source": [
    "• Entropía de cada red analizada.\n"
   ]
  },
  {
   "cell_type": "code",
   "execution_count": 38,
   "metadata": {},
   "outputs": [
    {
     "name": "stdout",
     "output_type": "stream",
     "text": [
      "entropia: 0.027778886345163643\n"
     ]
    }
   ],
   "source": [
    " \n",
    "print(f'entropia: {entropia(S1)}')"
   ]
  },
  {
   "cell_type": "markdown",
   "metadata": {},
   "source": [
    "• Cantidad de información de cada símbolo comparado con la entropía de la red.\n"
   ]
  },
  {
   "cell_type": "code",
   "execution_count": 40,
   "metadata": {},
   "outputs": [
    {
     "name": "stdout",
     "output_type": "stream",
     "text": [
      "info de evento (UNICAST,2048): 0.004045212057948735\n",
      "info de evento (UNICAST,2054): 8.480357457491845\n"
     ]
    }
   ],
   "source": [
    "for ((dire, proto), count) in S1.items():\n",
    "  print(f'info de evento ({dire},{proto}): {info((dire, proto), S1)}')\n",
    "\n",
    "#a que se referirá con \"comparado con\"?? desconozco"
   ]
  }
 ],
 "metadata": {
  "kernelspec": {
   "display_name": "Python 3.9.12 ('tp1-env': venv)",
   "language": "python",
   "name": "python3"
  },
  "language_info": {
   "codemirror_mode": {
    "name": "ipython",
    "version": 3
   },
   "file_extension": ".py",
   "mimetype": "text/x-python",
   "name": "python",
   "nbconvert_exporter": "python",
   "pygments_lexer": "ipython3",
   "version": "3.9.12"
  },
  "orig_nbformat": 4,
  "vscode": {
   "interpreter": {
    "hash": "f3dc4678f9a2e215ca692502604c82c1eae3b13a72d570c32f1840bbdc25b9e3"
   }
  }
 },
 "nbformat": 4,
 "nbformat_minor": 2
}
