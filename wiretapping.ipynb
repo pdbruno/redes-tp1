{
 "cells": [
  {
   "cell_type": "code",
   "execution_count": 43,
   "id": "338b0163",
   "metadata": {
    "scrolled": true
   },
   "outputs": [
    {
     "name": "stdout",
     "output_type": "stream",
     "text": [
      "('UNICAST', 2048) : 1.00000\n"
     ]
    }
   ],
   "source": [
    "#!/usr/bin/env python3\n",
    "from scapy.all import *\n",
    "import math\n",
    "import csv\n",
    "\n",
    "S1 = {}\n",
    "\n",
    "def prob(e, S):\n",
    "    return S[e]/sum(S.values())\n",
    "\n",
    "def info(e, S):\n",
    "    return -math.log2(prob(e, S))\n",
    "\n",
    "def entropia(S):\n",
    "    return sum([info(e, S) * prob(e, S) for e in S])\n",
    "\n",
    "def mostrar_fuente(S):\n",
    "    N = sum(S.values())\n",
    "    simbolos = sorted(S.items(), key=lambda x: -x[1])\n",
    "    print(\"\\n\".join([ \"%s : %.5f\" % (d,k/N) for d,k in simbolos ]))\n",
    "    \n",
    "def callback(pkt):\n",
    "    if pkt.haslayer(Ether):\n",
    "        dire = \"BROADCAST\" if pkt[Ether].dst==\"ff:ff:ff:ff:ff:ff\" else \"UNICAST\"\n",
    "        proto = pkt[Ether].type # El campo type del frame tiene el protocolo\n",
    "        s_i = (dire, proto) # Aca se define el simbolo de la fuente\n",
    "        if s_i not in S1:\n",
    "            S1[s_i] = 0\n",
    "        S1[s_i] += 1\n",
    "\n",
    "\n",
    "sniff(count = 20000, prn=callback)\n",
    "mostrar_fuente(S1)\n",
    "\n",
    "\n",
    "\n",
    "with open('output.csv', 'w') as f:\n",
    "    writer = csv.writer(f)\n",
    "    writer.writerow(('Direccion', 'Protocolo', 'Apariciones'))\n",
    "    for (t, count) in S1.items():\n",
    "        writer.writerow((t[0], t[1], count))\n",
    "\n",
    "\n",
    "#Luego,\n",
    "#extender el código para que calcule la información de cada símbolo y la entropía de la fuente. Finalmente,\n",
    "#realizar una captura de tráfico utilizando el código extendido anteriormente. La captura deben ser lo más\n",
    "#extensa posibles (por ejemplo de más de 10.000 tramas). Las capturas deben hacerse en tantas redes como\n",
    "#miembros tenga el grupo"
   ]
  }
 ],
 "metadata": {
  "kernelspec": {
   "display_name": "Python 3 (ipykernel)",
   "language": "python",
   "name": "python3"
  },
  "language_info": {
   "codemirror_mode": {
    "name": "ipython",
    "version": 3
   },
   "file_extension": ".py",
   "mimetype": "text/x-python",
   "name": "python",
   "nbconvert_exporter": "python",
   "pygments_lexer": "ipython3",
   "version": "3.10.4"
  }
 },
 "nbformat": 4,
 "nbformat_minor": 5
}
