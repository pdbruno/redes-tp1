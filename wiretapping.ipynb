{
  "cells": [
    {
      "cell_type": "code",
      "execution_count": 9,
      "id": "CBgG56fiXztZ",
      "metadata": {
        "colab": {
          "base_uri": "https://localhost:8080/"
        },
        "id": "CBgG56fiXztZ",
        "outputId": "69a0cb54-5fb0-4a85-fd8b-05480283b41d"
      },
      "outputs": [
        {
          "name": "stdout",
          "output_type": "stream",
          "text": [
            "Looking in indexes: https://pypi.org/simple, https://us-python.pkg.dev/colab-wheels/public/simple/\n",
            "Requirement already satisfied: scapy in /usr/local/lib/python3.7/dist-packages (2.4.5)\n"
          ]
        }
      ],
      "source": [
        "!pip install scapy"
      ]
    },
    {
      "cell_type": "code",
      "execution_count": 9,
      "id": "28880a40",
      "metadata": {},
      "outputs": [],
      "source": [
        "import csv\n",
        "from scapy.all import *"
      ]
    },
    {
      "cell_type": "code",
      "execution_count": 10,
      "id": "338b0163",
      "metadata": {
        "colab": {
          "base_uri": "https://localhost:8080/"
        },
        "id": "338b0163",
        "outputId": "7b2135f8-827b-4bce-a52d-9cce4ef469d4",
        "scrolled": true
      },
      "outputs": [
        {
          "name": "stdout",
          "output_type": "stream",
          "text": [
            "('UNICAST', 2048) : 1.00000\n"
          ]
        }
      ],
      "source": [
        "#!/usr/bin/env python3\n",
        "from scapy.all import *\n",
        "import math\n",
        "import csv\n",
        "\n",
        "S1 = {}\n",
        "\n",
        "def prob(e, S):\n",
        "    return S[e]/sum(S.values())\n",
        "\n",
        "def info(e, S):\n",
        "    return -math.log2(prob(e, S))\n",
        "\n",
        "def entropia(S):\n",
        "    return sum([info(e, S) * prob(e, S) for e in S])\n",
        "\n",
        "def mostrar_fuente(S):\n",
        "    N = sum(S.values())\n",
        "    simbolos = sorted(S.items(), key=lambda x: -x[1])\n",
        "    print(\"\\n\".join([ \"%s : %.5f\" % (d,k/N) for d,k in simbolos ]))\n",
        "    \n",
        "def callback(pkt):\n",
        "    if pkt.haslayer(Ether):\n",
        "        dire = \"BROADCAST\" if pkt[Ether].dst==\"ff:ff:ff:ff:ff:ff\" else \"UNICAST\"\n",
        "        proto = pkt[Ether].type # El campo type del frame tiene el protocolo\n",
        "        s_i = (dire, proto) # Aca se define el simbolo de la fuente\n",
        "        if s_i not in S1:\n",
        "            S1[s_i] = 0\n",
        "        S1[s_i] += 1\n",
        "\n",
        "        if\n",
        "\n",
        "\n",
        "sniff(count = 20, prn=callback)\n",
        "mostrar_fuente(S1)\n",
        "\n",
        "\n",
        "\n",
        "with open('output.csv', 'w') as f:\n",
        "    writer = csv.writer(f)\n",
        "    writer.writerow(('Direccion', 'Protocolo', 'Apariciones'))\n",
        "    for (t, count) in S1.items():\n",
        "        writer.writerow((t[0], t[1], count))\n",
        "    f.close();\n",
        "\n",
        "\n",
        "#Luego,\n",
        "#extender el código para que calcule la información de cada símbolo y la entropía de la fuente. Finalmente,\n",
        "#realizar una captura de tráfico utilizando el código extendido anteriormente. La captura deben ser lo más\n",
        "#extensa posibles (por ejemplo de más de 10.000 tramas). Las capturas deben hacerse en tantas redes como\n",
        "#miembros tenga el grupo"
      ]
    },
    {
      "cell_type": "code",
      "execution_count": 10,
      "id": "wGZyKjMbK4us",
      "metadata": {
        "colab": {
          "base_uri": "https://localhost:8080/"
        },
        "id": "wGZyKjMbK4us",
        "outputId": "68e5f0fb-c7c4-47a9-ffbc-1b762a24ebf8"
      },
      "outputs": [],
      "source": [
        "S2 = {}\n",
        "\n",
        "def callback_2(pkt):\n",
        "    if pkt.haslayer(Ether):\n",
        "        proto = pkt[Ether].type # El campo type del frame tiene el protocolo\n",
        "        if proto == 2054: #es arp\n",
        "            s_i = (pkt[ARP].psrc, pkt[ARP].pdst) # Aca se define el simbolo de la fuente\n",
        "            if s_i not in S2:\n",
        "                S2[s_i] = 0\n",
        "            S2[s_i] += 1\n",
        "            \n",
        "\n",
        "\n",
        "sniff(count = 10000, prn=callback_2)\n",
        "\n",
        "\n",
        "with open('output_opc.csv', 'w') as f:\n",
        "    writer = csv.writer(f)\n",
        "    writer.writerow(('Source IP Address', 'Destiny IP Address'))\n",
        "    for (src, dst) in S2.items():\n",
        "        writer.writerow((src, dst))\n",
        "    f.close()"
      ]
    }
  ],
  "metadata": {
    "colab": {
      "collapsed_sections": [],
      "provenance": []
    },
    "kernelspec": {
      "display_name": "Python 3.9.12 ('tp1-env': venv)",
      "language": "python",
      "name": "python3"
    },
    "language_info": {
      "codemirror_mode": {
        "name": "ipython",
        "version": 3
      },
      "file_extension": ".py",
      "mimetype": "text/x-python",
      "name": "python",
      "nbconvert_exporter": "python",
      "pygments_lexer": "ipython3",
      "version": "3.9.12"
    },
    "vscode": {
      "interpreter": {
        "hash": "f3dc4678f9a2e215ca692502604c82c1eae3b13a72d570c32f1840bbdc25b9e3"
      }
    }
  },
  "nbformat": 4,
  "nbformat_minor": 5
}
